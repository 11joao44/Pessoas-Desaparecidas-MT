{
 "cells": [
  {
   "cell_type": "code",
   "execution_count": null,
   "id": "dbb83100",
   "metadata": {},
   "outputs": [],
   "source": [
    "from requests import get\n",
    "count = 0\n",
    "\n",
    "for i in range(2435):\n",
    "    response = get(f'https://abitus-api.geia.vip/v1/pessoas/{i+1}')\n",
    "    if response.status_code == 200:\n",
    "        count += 1\n",
    "        print(response.json())\n",
    "print(f'Total encontrados: {count}')"
   ]
  },
  {
   "cell_type": "code",
   "execution_count": 26,
   "id": "079e6f67",
   "metadata": {},
   "outputs": [
    {
     "data": {
      "text/plain": [
       "449"
      ]
     },
     "metadata": {},
     "output_type": "display_data"
    },
    {
     "data": {
      "text/plain": [
       "200"
      ]
     },
     "metadata": {},
     "output_type": "display_data"
    }
   ],
   "source": [
    "from requests import get\n",
    "\n",
    "totalElements = get(f'https://abitus-api.geia.vip/v1/pessoas/aberto/filtro?pagina=0&porPagina=1').json()['totalElements']\n",
    "display(totalElements)\n",
    "response = get(f'https://abitus-api.geia.vip/v1/pessoas/aberto/filtro?pagina=0&porPagina={totalElements}').json()\n",
    "display(len(response['content']))"
   ]
  }
 ],
 "metadata": {
  "kernelspec": {
   "display_name": "Python 3",
   "language": "python",
   "name": "python3"
  },
  "language_info": {
   "codemirror_mode": {
    "name": "ipython",
    "version": 3
   },
   "file_extension": ".py",
   "mimetype": "text/x-python",
   "name": "python",
   "nbconvert_exporter": "python",
   "pygments_lexer": "ipython3",
   "version": "3.12.10"
  }
 },
 "nbformat": 4,
 "nbformat_minor": 5
}
